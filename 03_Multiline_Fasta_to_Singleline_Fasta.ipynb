{
 "cells": [
  {
   "cell_type": "code",
   "execution_count": null,
   "id": "9a4cdec9",
   "metadata": {},
   "outputs": [],
   "source": [
    "def convert_fasta(input_file, output_file):\n",
    "\n",
    "    with open(input_file, 'r') as infile, open(output_file, 'w') as outfile:\n",
    "        header = None\n",
    "        sequence = \"\"\n",
    "        for line in infile:\n",
    "            line = line.strip()\n",
    "            if line.startswith(\">\"):\n",
    "                # line complete- time to write to output file\n",
    "                if header:\n",
    "                    outfile.write(f\"{header}\\n {sequence}\\n\")\n",
    "                header = line\n",
    "                sequence = \"\"\n",
    "            # line continues\n",
    "            elif line:\n",
    "                sequence += line\n",
    "        if header:\n",
    "            # flush last remaining line.\n",
    "            outfile.write(f\"{header}\\n {sequence}\\n\")"
   ]
  },
  {
   "cell_type": "code",
   "execution_count": 6,
   "id": "3e00d03f",
   "metadata": {},
   "outputs": [
    {
     "name": "stdout",
     "output_type": "stream",
     "text": [
      "Successfully converted 'multiline_input.fasta' to 'singleline_output.fasta'\n"
     ]
    }
   ],
   "source": [
    "input_fasta_file = \"multiline_input.fasta\"\n",
    "output_fasta_file = \"singleline_output.fasta\"\n",
    "\n",
    "convert_fasta(input_fasta_file, output_fasta_file)\n",
    "\n",
    "print(f\"Successfully converted '{input_fasta_file}' to '{output_fasta_file}'\")"
   ]
  }
 ],
 "metadata": {
  "kernelspec": {
   "display_name": "base",
   "language": "python",
   "name": "python3"
  },
  "language_info": {
   "codemirror_mode": {
    "name": "ipython",
    "version": 3
   },
   "file_extension": ".py",
   "mimetype": "text/x-python",
   "name": "python",
   "nbconvert_exporter": "python",
   "pygments_lexer": "ipython3",
   "version": "3.12.7"
  }
 },
 "nbformat": 4,
 "nbformat_minor": 5
}
