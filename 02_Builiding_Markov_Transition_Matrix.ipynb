{
 "cells": [
  {
   "cell_type": "code",
   "execution_count": 3,
   "id": "ffd26b62",
   "metadata": {},
   "outputs": [],
   "source": [
    "import numpy as np\n",
    "import pandas as pd\n"
   ]
  },
  {
   "cell_type": "code",
   "execution_count": 4,
   "id": "9b2de56d",
   "metadata": {},
   "outputs": [],
   "source": [
    "def build_markov_matrix(sequence):\n",
    "    # Define nucleotide indices\n",
    "    nucleotides = ['a', 'c', 'g', 't']\n",
    "    index = {nuc: i for i, nuc in enumerate(nucleotides)}\n",
    "\n",
    "    # Initialize 4x4 matrix\n",
    "    matrix = np.zeros((4, 4), dtype=int)\n",
    "\n",
    "    # Count transitions\n",
    "    for i in range(len(sequence) - 1):\n",
    "        curr = sequence[i]\n",
    "        next_ = sequence[i + 1]\n",
    "        if curr in index and next_ in index:\n",
    "            matrix[index[curr], index[next_]] += 1\n",
    "\n",
    "    # Normalize to get probabilities\n",
    "    transition_matrix = matrix.astype(float)\n",
    "    row_sums = transition_matrix.sum(axis=1)\n",
    "    for i in range(4):\n",
    "        if row_sums[i] > 0:\n",
    "            transition_matrix[i] /= row_sums[i]\n",
    "\n",
    "    # Display as DataFrame\n",
    "    df = pd.DataFrame(transition_matrix, columns=nucleotides, index=nucleotides)\n",
    "    return df\n"
   ]
  },
  {
   "cell_type": "markdown",
   "id": "259d0ddd",
   "metadata": {},
   "source": [
    "random dna sequence generated from: https://www.bioinformatics.org/sms2/random_dna.html"
   ]
  },
  {
   "cell_type": "code",
   "execution_count": 5,
   "id": "3cb449cb",
   "metadata": {},
   "outputs": [
    {
     "name": "stdout",
     "output_type": "stream",
     "text": [
      "          a         c         g         t\n",
      "a  0.205645  0.233871  0.250000  0.310484\n",
      "c  0.232932  0.257028  0.301205  0.208835\n",
      "g  0.267717  0.259843  0.251969  0.220472\n",
      "t  0.290323  0.245968  0.213710  0.250000\n"
     ]
    }
   ],
   "source": [
    "dna_seq = \"ttgaatccctgtacgttaagtatatcacagtgttgtatgtcgagttgggtcgtagccaatacgtgcctccgtacagaggtctattttaactagtaggctcatttacttgagggactaatgtccaactcatattagcgttgggacgcgtaatggacggagccagcctaaggcgaaccgatggcatcaaatacggttgacgtccttatggggaagctcagggtagaagacagttttaacagatccctacggggcgccccttggcattagccagacctcggtgcaacatcagacttgttgggtttcaaataagtaccccgcctgtaaactcccgcgagccatgccgggtggagttactgcgttttgcggctcggagtataatgcctataaacgtctaccgcaaaatgaggatatgagggatctcaacctcgactctattaagcccagacgacgtgaaacaggggctactctctgatagccccatcgacatatagttcccgattaatattttaatttctatatagatcctcgggaagccgcctcgcgtcggttgcaggcattccaagagtatcccgctgtcagagatatgaggtggtgatatcattgacctatacttcgcaacggggatagacgttggcgggctcgcaccaagtcgattacatcaccgacccggatcagagcccgcgataacccataatatgcagagtcgactcacattcaggagccgtagcatcatcatcggctggcaatcgtacaaccccggggatcctaagccatccgttgctatcgagttatttgcgttcgacaataattgctgcttagtacggaacgtggacccgtagctgggaataatcagagtttccctttacgctcgatcgtgtgttcgacacgcgttgattgatgattactacaggaagagccaccgcgacaatcgcgtggctgcttctgcgcgcatcacgaggctaggataagcaaacatctacgcgatttttgcctgcgcgga\"\n",
    "markov_df = build_markov_matrix(dna_seq)\n",
    "print(markov_df)\n"
   ]
  }
 ],
 "metadata": {
  "kernelspec": {
   "display_name": "base",
   "language": "python",
   "name": "python3"
  },
  "language_info": {
   "codemirror_mode": {
    "name": "ipython",
    "version": 3
   },
   "file_extension": ".py",
   "mimetype": "text/x-python",
   "name": "python",
   "nbconvert_exporter": "python",
   "pygments_lexer": "ipython3",
   "version": "3.12.7"
  }
 },
 "nbformat": 4,
 "nbformat_minor": 5
}
